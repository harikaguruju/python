{
 "cells": [
  {
   "cell_type": "markdown",
   "id": "f2f8354f",
   "metadata": {},
   "source": [
    " 1. Write a program that accepts a string and calculates the number of letters and digits.\n",
    "Suppose if the entered string is: Edureka123\n",
    "Then the output will be:\n",
    "LETTERS: - 7\n",
    "DIGITS: - 3"
   ]
  },
  {
   "cell_type": "code",
   "execution_count": 1,
   "id": "c0225e0a",
   "metadata": {},
   "outputs": [
    {
     "name": "stdout",
     "output_type": "stream",
     "text": [
      "input a string:harika123\n",
      "letters 1\n",
      "digits 0\n",
      "letters 2\n",
      "digits 0\n",
      "letters 3\n",
      "digits 0\n",
      "letters 4\n",
      "digits 0\n",
      "letters 5\n",
      "digits 0\n",
      "letters 6\n",
      "digits 0\n",
      "letters 6\n",
      "digits 1\n",
      "letters 6\n",
      "digits 2\n",
      "letters 6\n",
      "digits 3\n"
     ]
    }
   ],
   "source": [
    "str = input(\"input a string:\")\n",
    "d=l=0\n",
    "for c in str:\n",
    "    if c.isdigit():\n",
    "        d=d+1\n",
    "    elif c.isalpha():\n",
    "            l=l+1\n",
    "    else:\n",
    "        pass\n",
    "    print(\"letters\",l)\n",
    "    print(\"digits\",d)"
   ]
  },
  {
   "cell_type": "code",
   "execution_count": null,
   "id": "e7eb34ff",
   "metadata": {},
   "outputs": [],
   "source": [
    "2. Design a code which will find whether the given number is Palindrome number or not"
   ]
  },
  {
   "cell_type": "code",
   "execution_count": 3,
   "id": "8e85d720",
   "metadata": {},
   "outputs": [
    {
     "name": "stdout",
     "output_type": "stream",
     "text": [
      "enter number:6787\n",
      "the number isn't a palindrome!\n",
      "the number isn't a palindrome!\n",
      "the number isn't a palindrome!\n",
      "the number isn't a palindrome!\n"
     ]
    }
   ],
   "source": [
    "n = int(input(\"enter number:\"))\n",
    "temp=n\n",
    "rev=0\n",
    "while(n>0):\n",
    "    dig=n%10\n",
    "    rev=rev*10+dig\n",
    "    n=n//10\n",
    "    if(temp==rev):\n",
    "        print(\"The number is a palindrome!\")\n",
    "    else:\n",
    "        print(\"the number isn't a palindrome!\")"
   ]
  },
  {
   "cell_type": "markdown",
   "id": "02fe06da",
   "metadata": {},
   "source": []
  }
 ],
 "metadata": {
  "kernelspec": {
   "display_name": "Python 3.9.12 ('base')",
   "language": "python",
   "name": "python3"
  },
  "language_info": {
   "codemirror_mode": {
    "name": "ipython",
    "version": 3
   },
   "file_extension": ".py",
   "mimetype": "text/x-python",
   "name": "python",
   "nbconvert_exporter": "python",
   "pygments_lexer": "ipython3",
   "version": "3.9.12"
  },
  "vscode": {
   "interpreter": {
    "hash": "9e2bef54aefbf076ae52a1bec884dd0aee4133a1c3f385cbe294e0071d1cb698"
   }
  }
 },
 "nbformat": 4,
 "nbformat_minor": 5
}
